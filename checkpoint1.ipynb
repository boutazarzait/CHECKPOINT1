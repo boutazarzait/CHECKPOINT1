{
  "nbformat": 4,
  "nbformat_minor": 0,
  "metadata": {
    "colab": {
      "name": "checkpoint1.ipynb",
      "provenance": [],
      "collapsed_sections": []
    },
    "kernelspec": {
      "name": "python3",
      "display_name": "Python 3"
    },
    "language_info": {
      "name": "python"
    }
  },
  "cells": [
    {
      "cell_type": "code",
      "execution_count": 1,
      "metadata": {
        "colab": {
          "base_uri": "https://localhost:8080/"
        },
        "id": "DfqFEHooomeA",
        "outputId": "2d5df3ff-ba60-4ddc-febb-e0833b26deb8"
      },
      "outputs": [
        {
          "output_type": "stream",
          "name": "stdout",
          "text": [
            "Welcome to Python world! Let's start coding\n"
          ]
        }
      ],
      "source": [
        "print (\"Welcome to Python world! Let's start coding\")"
      ]
    }
  ]
}